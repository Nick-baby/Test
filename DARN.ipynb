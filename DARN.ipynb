{
 "cells": [
  {
   "cell_type": "code",
   "execution_count": 1,
   "id": "5e3e17eb",
   "metadata": {},
   "outputs": [],
   "source": [
    "# import os \n",
    "# path=\"C:/Users/Administrator/Desktop/DARN程序\"\n",
    "# os.chdir(path)  \n",
    "# os.listdir(path)\n"
   ]
  },
  {
   "cell_type": "code",
   "execution_count": 2,
   "id": "17298ec9",
   "metadata": {},
   "outputs": [],
   "source": [
    "from functools import lru_cache\n",
    "import numpy as np\n",
    "import os\n",
    "import torch\n",
    "from torch import nn\n",
    "from torch.autograd import Variable\n",
    "from torch.utils.data import Dataset, DataLoader,TensorDataset\n",
    "import shutil\n",
    "import matplotlib\n",
    "import matplotlib.pyplot as plt\n",
    "import warnings\n",
    "import pandas as pd\n",
    "warnings.filterwarnings(\"ignore\")\n",
    "import mmd\n",
    "import xlrd\n",
    "os.environ[\"KMP_DUPLICATE_LIB_OK\"]=\"TRUE\""
   ]
  },
  {
   "cell_type": "markdown",
   "id": "0ae9ed71",
   "metadata": {},
   "source": [
    "### 实验参数设置"
   ]
  },
  {
   "cell_type": "code",
   "execution_count": 3,
   "id": "27f23cf9",
   "metadata": {},
   "outputs": [],
   "source": [
    "# 设置系统随机状态\n",
    "torch.manual_seed(0)  \n",
    "# 训练epoch次数\n",
    "max_epoch = 100        \n",
    "# 源域文件路径\n",
    "source_location='C:/Users/Administrator/Desktop/DARN程序/源域/GAST/n213_n216_n227_all.xlsx'\n",
    "# 源域训练测试比例划分\n",
    "source_test_size=59/1959 \n",
    "# 目标域文件路径\n",
    "target_location='C:/Users/Administrator/Desktop/DARN程序/目标域/GAST/泸205_GAST.csv'\n",
    "# 目标域训练测试比例划分\n",
    "target_test_size=4/54\n",
    "# 输入神经元设置\n",
    "net_input=5\n",
    "# 目标域测试结果保存路径\n",
    "savepath=\"C:/Users/Administrator/Desktop/new_draw_picture/H203gast_darn_DARN_GAST.csv\"\n",
    "# 测试目标域岩心对应测井数据/整个层位测井数据文件\n",
    "# Testpath=\"C:/Users/Administrator/Desktop/new_draw_picture/H203/黄203_wire.csv\"\n",
    "Testpath=target_location"
   ]
  },
  {
   "cell_type": "code",
   "execution_count": 4,
   "id": "b78326c5",
   "metadata": {},
   "outputs": [
    {
     "name": "stdout",
     "output_type": "stream",
     "text": [
      "源域数据信息(1959, 7)\n"
     ]
    }
   ],
   "source": [
    "\"\"\"源域数据加载\"\"\"\n",
    "df1=pd.read_excel(source_location)\n",
    "data2=df1.values\n",
    "all_data=data2[:,1:]\n",
    "x=all_data[:,0:-1]# 源域测井特征\n",
    "y=all_data[:,-1]  # 源域岩心标签\n",
    "y = y.reshape(-1,1)\n",
    "print(f\"源域数据信息{data2.shape}\")"
   ]
  },
  {
   "cell_type": "code",
   "execution_count": 5,
   "id": "3e3fedca",
   "metadata": {},
   "outputs": [],
   "source": [
    "\"\"\"源域数据标准化\"\"\"\n",
    "from sklearn.preprocessing import StandardScaler\n",
    "mm_scale=StandardScaler()\n",
    "x = mm_scale.fit_transform(x)\n"
   ]
  },
  {
   "cell_type": "code",
   "execution_count": 6,
   "id": "12ed0772",
   "metadata": {},
   "outputs": [],
   "source": [
    "\"\"\"切分源域数据集\"\"\"\n",
    "from sklearn.model_selection import train_test_split\n",
    "x_train,x_test,y_train,y_test = train_test_split(x,y,test_size=source_test_size,random_state=55)\n",
    "x_train = torch.from_numpy(x_train).type(torch.FloatTensor)\n",
    "x_test = torch.from_numpy(x_test).type(torch.FloatTensor)\n",
    "y_train = torch.from_numpy(y_train).type(torch.FloatTensor)\n",
    "y_test = torch.from_numpy(y_test).type(torch.FloatTensor)\n",
    "Train_set = TensorDataset(x_train,y_train)\n",
    "Train_Loader = DataLoader(dataset=Train_set,batch_size=50,shuffle=True)"
   ]
  },
  {
   "cell_type": "code",
   "execution_count": 7,
   "id": "b2c6c955",
   "metadata": {},
   "outputs": [
    {
     "name": "stdout",
     "output_type": "stream",
     "text": [
      "目标领域数据信息(54, 5)\n"
     ]
    }
   ],
   "source": [
    "\"\"\"目标域数据加载\"\"\"\n",
    "tabel=pd.read_csv(target_location)\n",
    "data2=tabel.values\n",
    "all_data=data2[:,1:]\n",
    "target_data=all_data[:,0:-1]\n",
    "target_label=all_data[:,-1]\n",
    "target_label = target_label.reshape(-1,1)\n",
    "print(f\"目标领域数据信息{target_data.shape}\")"
   ]
  },
  {
   "cell_type": "code",
   "execution_count": 8,
   "id": "72929c46",
   "metadata": {},
   "outputs": [],
   "source": [
    "\"\"\"目标域数据标准化\"\"\"\n",
    "trget_data = mm_scale.fit_transform(target_data)\n",
    "\n"
   ]
  },
  {
   "cell_type": "code",
   "execution_count": 9,
   "id": "7190a45b",
   "metadata": {},
   "outputs": [],
   "source": [
    "\"\"\"切分目标域数据集\"\"\"\n",
    "Tx_train,Tx_test,Ty_train,Ty_test = train_test_split(target_data,target_label,test_size=target_test_size,random_state=55)\n",
    "Tx_train = torch.from_numpy(Tx_train).type(torch.FloatTensor)\n",
    "Tx_test = torch.from_numpy(Tx_test).type(torch.FloatTensor)\n",
    "Ty_train = torch.from_numpy(Ty_train).type(torch.FloatTensor)\n",
    "Ty_test = torch.from_numpy(Ty_test).type(torch.FloatTensor)\n",
    "Target_Train_set = TensorDataset(Tx_train,Ty_train)\n",
    "Target_Train_Loader = DataLoader(dataset=Target_Train_set,batch_size=50,shuffle=True)"
   ]
  },
  {
   "cell_type": "code",
   "execution_count": 10,
   "id": "0d8ea898",
   "metadata": {},
   "outputs": [
    {
     "name": "stdout",
     "output_type": "stream",
     "text": [
      "1\n"
     ]
    }
   ],
   "source": [
    "'''封装目标域数据迭代器'''\n",
    "T_Data=iter(Target_Train_Loader)\n",
    "T_iter_num=len(T_Data)\n",
    "print(T_iter_num)"
   ]
  },
  {
   "cell_type": "code",
   "execution_count": 11,
   "id": "8da80ca3",
   "metadata": {},
   "outputs": [],
   "source": [
    "\"\"\"加载网络模型\"\"\"\n",
    "from DaNN import DaNN_R\n",
    "model=DaNN_R(n_input=net_input)"
   ]
  },
  {
   "cell_type": "code",
   "execution_count": 12,
   "id": "1c9442d1",
   "metadata": {},
   "outputs": [],
   "source": [
    "\"\"\"初始化网络参数\"\"\"\n",
    "for m in model.modules():\n",
    "    if isinstance(m,nn.Conv2d):\n",
    "        nn.init.normal(m.weight.data)\n",
    "        nn.init.xavier_normal(m.weight.data)\n",
    "        nn.init.kaiming_normal(m.weight.data)#卷积层参数初始化\n",
    "        m.bias.data.fill_(0)\n",
    "    elif isinstance(m,nn.Linear):\n",
    "        nn.init.kaiming_normal_(m.weight)#全连接层参数初始化"
   ]
  },
  {
   "cell_type": "code",
   "execution_count": 13,
   "id": "e41728a4",
   "metadata": {},
   "outputs": [],
   "source": [
    "\"\"\"定义mmd损失函数\"\"\"\n",
    "GAMMA = 10 ^ 3\n",
    "def mmd_loss(x_src, x_tar):\n",
    "    return mmd.mix_rbf_mmd2(x_src, x_tar, [GAMMA])"
   ]
  },
  {
   "cell_type": "code",
   "execution_count": 14,
   "id": "66c7bbc9",
   "metadata": {},
   "outputs": [],
   "source": [
    "\"\"\"定义优化器和损失函数\"\"\"\n",
    "criterion = nn.MSELoss()\n",
    "optimizer = torch.optim.Adam(model.parameters(),lr=0.001)\n",
    "ExpLR = torch.optim.lr_scheduler.ExponentialLR(optimizer, gamma=0.98)"
   ]
  },
  {
   "cell_type": "code",
   "execution_count": 15,
   "id": "603b1ae1",
   "metadata": {},
   "outputs": [],
   "source": [
    "\"\"\"定义训练好的模型保存路径\"\"\"\n",
    "save_path='./Output/'\n",
    "if not os.path.exists(save_path):\n",
    "    os.mkdir(save_path)"
   ]
  },
  {
   "cell_type": "code",
   "execution_count": 16,
   "id": "9dc3c9f1",
   "metadata": {},
   "outputs": [
    {
     "name": "stdout",
     "output_type": "stream",
     "text": [
      "Epoch: 0 Loss 176.8077552318573\n",
      "Epoch: 5 Loss 54.8966680765152\n",
      "Epoch: 10 Loss 42.78321832418442\n",
      "Epoch: 15 Loss 33.1913143992424\n",
      "Epoch: 20 Loss 27.29860669374466\n",
      "Epoch: 25 Loss 22.626017779111862\n",
      "Epoch: 30 Loss 20.416248351335526\n",
      "Epoch: 35 Loss 18.340218722820282\n",
      "Epoch: 40 Loss 18.031813859939575\n",
      "Epoch: 45 Loss 16.69482484459877\n",
      "Epoch: 50 Loss 15.479837268590927\n",
      "Epoch: 55 Loss 15.758082747459412\n",
      "Epoch: 60 Loss 15.05844134092331\n",
      "Epoch: 65 Loss 14.721337348222733\n",
      "Epoch: 70 Loss 14.326014697551727\n",
      "Epoch: 75 Loss 13.808143645524979\n",
      "Epoch: 80 Loss 14.24901369214058\n",
      "Epoch: 85 Loss 13.011833041906357\n",
      "Epoch: 90 Loss 13.371005550026894\n",
      "Epoch: 95 Loss 12.79176351428032\n",
      "min_cost=12.79176351428032\n"
     ]
    }
   ],
   "source": [
    "\"\"\"开始训练\"\"\"\n",
    "loss_list=[]  # 记录所有loss的值\n",
    "min_cost=3000 # 选出最小的loss，定义初值\n",
    "model.train()\n",
    "for epoch in range(max_epoch):\n",
    "    all_loss=0\n",
    "    for j ,data in enumerate(Train_Loader):\n",
    "        x_train,y_train=data\n",
    "        t_x_train,t_y_train=T_Data.next()\n",
    "        if j % T_iter_num == 0:\n",
    "            T_Data=iter(Target_Train_Loader)\n",
    "        # 前向传播\n",
    "        y_src, x_src_mmd, x_tar_mmd,x_src_64,x_tar_64 ,x_src_31,x_tar_31= model(x_train,t_x_train) # 源域预测 \n",
    "        # 计算loss + 单核MMD\n",
    "        loss = criterion(y_src, y_train)\n",
    "        loss_mmd = mmd_loss(x_src_mmd, x_tar_mmd)  # MMD对齐\n",
    "        loss_mmd_64 = mmd_loss(x_src_64, x_tar_64)\n",
    "        loss_mmd_31 = mmd_loss(x_src_31, x_tar_31)\n",
    "        loss = 0.6 * loss_mmd + loss + 0.2 * loss_mmd_64 + 0.2 * loss_mmd_31      \n",
    "        # 梯度清0\n",
    "        optimizer.zero_grad()\n",
    "        # 反向传播\n",
    "        loss.backward()\n",
    "        # 权重调整\n",
    "        optimizer.step()\n",
    "        all_loss+=loss.detach().numpy()\n",
    "    ExpLR.step()\n",
    "    # 间隔打印信息\n",
    "    if epoch%5==0:\n",
    "        print('Epoch:',epoch,'Loss',all_loss)\n",
    "    loss_list.append(all_loss)\n",
    "    if all_loss < min_cost:\n",
    "        min_cost = all_loss\n",
    "        save_name = save_path +'best.pth'\n",
    "        torch.save(model.state_dict(), save_name)\n",
    "    if epoch==max_epoch-1:\n",
    "        \n",
    "        print(f\"min_cost={min_cost}\")"
   ]
  },
  {
   "cell_type": "code",
   "execution_count": 17,
   "id": "1d96c88a",
   "metadata": {},
   "outputs": [
    {
     "data": {
      "image/png": "[encoded data removed]",
      "text/plain": [
       "<Figure size 432x288 with 1 Axes>"
      ]
     },
     "metadata": {
      "needs_background": "light"
     },
     "output_type": "display_data"
    }
   ],
   "source": [
    "\"\"\"\n",
    "汇制训练损失图\n",
    "\"\"\"\n",
    "def plt_loss_curve(loss_list,Epoch,fig_name):\n",
    "    x = np.linspace(0, Epoch,Epoch)\n",
    "    y=np.array(loss_list)\n",
    "    plt.plot(x, y, label='predict',marker='*')\n",
    "    plt.xlabel('Epoch')\n",
    "    plt.ylabel('Loss')\n",
    "    plt.title(fig_name )\n",
    "    plt.legend()\n",
    "    plt.savefig(fig_name)\n",
    "    plt.show()\n",
    "plt_loss_curve(loss_list,max_epoch,\"picture/loss.jpg\")"
   ]
  },
  {
   "cell_type": "markdown",
   "id": "167c6a9c",
   "metadata": {},
   "source": [
    "## 测试阶段"
   ]
  },
  {
   "cell_type": "code",
   "execution_count": 18,
   "id": "e7f4d9ae",
   "metadata": {},
   "outputs": [
    {
     "data": {
      "text/plain": [
       "DaNN_R(\n",
       "  (layer_input1): Linear(in_features=5, out_features=31, bias=True)\n",
       "  (layer_input2): Linear(in_features=31, out_features=64, bias=True)\n",
       "  (layer_input3): Linear(in_features=64, out_features=31, bias=True)\n",
       "  (layer_input4): Linear(in_features=31, out_features=1, bias=True)\n",
       "  (layer_input5): Linear(in_features=31, out_features=31, bias=True)\n",
       "  (layer_input6): Linear(in_features=31, out_features=31, bias=True)\n",
       "  (layer_input7): Linear(in_features=31, out_features=31, bias=True)\n",
       "  (relu): GELU()\n",
       "  (dropout): Dropout(p=0.2, inplace=False)\n",
       ")"
      ]
     },
     "execution_count": 18,
     "metadata": {},
     "output_type": "execute_result"
    }
   ],
   "source": [
    "\"\"\"测试--加载最好的模型进行测试\"\"\"\n",
    "model = DaNN_R(n_input=net_input)\n",
    "model_weight_path = './Output/best.pth'\n",
    "model.load_state_dict(torch.load(model_weight_path))\n",
    "model.eval()"
   ]
  },
  {
   "cell_type": "code",
   "execution_count": 19,
   "id": "5b575bf3",
   "metadata": {},
   "outputs": [
    {
     "name": "stdout",
     "output_type": "stream",
     "text": [
      "目标领域数据数量54\n"
     ]
    }
   ],
   "source": [
    "\"\"\"加载目标域测试数据—岩心对于测井参数/对应所有层的测井数据\"\"\"\n",
    "df1=pd.read_csv(Testpath)\n",
    "data2=df1.values\n",
    "all_data=data2[:,1:]\n",
    "target_data=all_data[:,0:-1]\n",
    "target_label=all_data[:,-1]\n",
    "target_label = target_label.reshape(-1,1)\n",
    "print(f\"目标领域数据数量{target_data.shape[0]}\")\n",
    "\"\"\"目标域数据标准化并转化为tensor格式\"\"\"\n",
    "target_data = mm_scale.fit_transform(target_data)\n",
    "Tx_train = torch.from_numpy(target_data).type(torch.FloatTensor)\n",
    "Ty_train = torch.from_numpy(target_label).type(torch.FloatTensor)"
   ]
  },
  {
   "cell_type": "code",
   "execution_count": 20,
   "id": "a4d4b90e",
   "metadata": {},
   "outputs": [
    {
     "name": "stdout",
     "output_type": "stream",
     "text": [
      "目标域平均绝对误差为:0.6527197360992432\n",
      "目标域测试均方误差为：0.6666388511657715\n",
      "源域测试平均绝对误差为：0.3948727250099182\n",
      "源域测试均方误差为：0.24467799067497253\n",
      "目标域相对误差：[39.44385]\n"
     ]
    }
   ],
   "source": [
    "Ty_test=Ty_train\n",
    "Tx_test=Tx_train\n",
    "MAE = nn.L1Loss()\n",
    "with torch.no_grad():\n",
    "\n",
    "    output, _, _ ,_,_,_,_= model(Tx_test, Tx_test) # 目标域测试集\n",
    "    loss = criterion(output, Ty_test)\n",
    "    predict_list = output.detach().numpy()\n",
    "    \"\"\"目标域测试结果写入表中\"\"\"\n",
    "    data_result = {'real_value': np.round(Ty_test.numpy().flatten(), 2).tolist(),\n",
    "                   'pred_value': np.round(output.numpy().flatten(), 2).tolist()}\n",
    "    dataframe = pd.DataFrame(data_result, columns=['real_value', 'pred_value'])\n",
    "    dfA = pd.concat([df1, dataframe], axis=1)\n",
    "    dfA.to_csv(savepath, index=False)\n",
    "    predict_list = output.detach().numpy()\n",
    "    \"\"\"MAE损失\"\"\"\n",
    "    MAE_LOSS=MAE(output,Ty_test)\n",
    "    print(f'目标域平均绝对误差为:{MAE_LOSS}')\n",
    "    print(f'目标域测试均方误差为：{loss}')\n",
    "    output_sourc, _, _,_,_ ,_,_= model(x_test, x_test)\n",
    "    loss_source = criterion(output_sourc, y_test)\n",
    "    S_MAE_LOSS = MAE(output_sourc, y_test)\n",
    "    souce_predict_list = output_sourc.detach().numpy()\n",
    "    print(f'源域测试平均绝对误差为：{S_MAE_LOSS}')\n",
    "    print(f'源域测试均方误差为：{loss_source}')\n",
    "# 目标域相对误差\n",
    "def mean_relative_error(y_true, y_pred,):\n",
    "    import numpy as np\n",
    "    relative_error = np.average(np.abs((y_true - y_pred) / y_true)*100, axis=0)\n",
    "    return relative_error\n",
    "print(f\"目标域相对误差：{mean_relative_error(Ty_test.detach().numpy(),predict_list)}\")"
   ]
  },
  {
   "cell_type": "code",
   "execution_count": 21,
   "id": "79c77a12",
   "metadata": {},
   "outputs": [
    {
     "data": {
      "image/png": "[encoded data removed]",
      "text/plain": [
       "<Figure size 432x288 with 1 Axes>"
      ]
     },
     "metadata": {
      "needs_background": "light"
     },
     "output_type": "display_data"
    },
    {
     "data": {
      "image/png": "[encoded data removed]",
      "text/plain": [
       "<Figure size 432x288 with 1 Axes>"
      ]
     },
     "metadata": {
      "needs_background": "light"
     },
     "output_type": "display_data"
    }
   ],
   "source": [
    "'''绘制真实值和预测值对比图'''\n",
    "def draw_infer_result(groud_truths,infer_results,title):\n",
    "    title=title\n",
    "    plt.title(title, fontsize=24)\n",
    "    x= np.arange(0,10) # 设置图幅范围\n",
    "    plt.plot(x, x)\n",
    "    plt.xlabel('ground truth', fontsize=14)\n",
    "    plt.ylabel('infer result', fontsize=14)\n",
    "    plt.scatter(groud_truths, infer_results,color='green')\n",
    "    plt.grid()\n",
    "    plt.savefig(title)\n",
    "    plt.show()\n",
    "draw_infer_result(Ty_test.detach().numpy(),predict_list,'picture/target_result')\n",
    "draw_infer_result(y_test.detach().numpy(),souce_predict_list,'picture/source_result')"
   ]
  },
  {
   "cell_type": "code",
   "execution_count": null,
   "id": "7c875083",
   "metadata": {},
   "outputs": [],
   "source": []
  }
 ],
 "metadata": {
  "kernelspec": {
   "display_name": "Python 3 (ipykernel)",
   "language": "python",
   "name": "python3"
  },
  "language_info": {
   "codemirror_mode": {
    "name": "ipython",
    "version": 3
   },
   "file_extension": ".py",
   "mimetype": "text/x-python",
   "name": "python",
   "nbconvert_exporter": "python",
   "pygments_lexer": "ipython3",
   "version": "3.7.11"
  }
 },
 "nbformat": 4,
 "nbformat_minor": 5
}
